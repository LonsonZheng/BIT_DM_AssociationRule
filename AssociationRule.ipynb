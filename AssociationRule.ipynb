{
 "cells": [
  {
   "cell_type": "code",
   "execution_count": 7,
   "id": "78f302bc",
   "metadata": {},
   "outputs": [
    {
     "name": "stderr",
     "output_type": "stream",
     "text": [
      "100%|██████████████████████████████████████████████████████████████████████| 131666/131666 [00:00<00:00, 627359.05it/s]"
     ]
    },
    {
     "name": "stdout",
     "output_type": "stream",
     "text": [
      "-------------前十个网站信息------------\n",
      "1287 \"International AutoRoute\"\"/autoroute\"\n",
      "\n",
      "1288 \"library\"\"/library\"\n",
      "\n",
      "1289 \"Master Chef Product Information\"\"/masterchef\"\n",
      "\n",
      "1297 \"Central America\"\"/centroam\"\n",
      "\n",
      "1215 \"For Developers Only Info\"\"/developer\"\n",
      "\n",
      "1279 \"Multimedia Golf\"\"/msgolf\"\n",
      "\n",
      "1239 \"Microsoft Consulting\"\"/msconsult\"\n",
      "\n",
      "1282 \"home\"\"/home\"\n",
      "\n",
      "1251 \"Reference Support\"\"/referencesupport\"\n",
      "\n",
      "1121 \"Microsoft Magazine\"\"/magazine\"\n",
      "\n",
      "-------------前十条浏览记录------------\n",
      "10001 ['1000', '1001', '1002']\n",
      "10002 ['1001', '1003']\n",
      "10003 ['1001', '1003', '1004']\n",
      "10004 ['1005']\n",
      "10005 ['1006']\n",
      "10006 ['1003', '1004']\n",
      "10007 ['1007']\n",
      "10008 ['1004']\n",
      "10009 ['1008', '1009']\n",
      "10010 ['1010', '1000', '1011', '1012', '1013', '1014']\n"
     ]
    },
    {
     "name": "stderr",
     "output_type": "stream",
     "text": [
      "\n"
     ]
    }
   ],
   "source": [
    "import tqdm\n",
    "import pandas as pd\n",
    "import matplotlib.pyplot as plt\n",
    "\n",
    "# 数据读取\n",
    "data = open(\"D:\\\\学习资料\\\\数据挖掘\\\\第三次作业\\\\anonymous-msweb.data\")\n",
    "web_id = []\n",
    "watch_id = []\n",
    "webs = dict()\n",
    "logs = dict()\n",
    "# 提取信息\n",
    "for line in tqdm.tqdm(data.readlines()):\n",
    "    # print(line)\n",
    "    # 提取网站信息\n",
    "    if line[0] == 'A':\n",
    "        web = line.split(',')[1]\n",
    "        web_id.append(web)\n",
    "        webs[web] = ''.join(line.split(',')[-2:])\n",
    "    # 提取用户信息\n",
    "    elif line[0] == 'C':\n",
    "        index = line.split(',')[2][:-1]\n",
    "        logs[index] = []\n",
    "    # 提取浏览记录\n",
    "    elif line[0] == 'V':\n",
    "        web = line.split(',')[1]\n",
    "        watch_id.append(web)\n",
    "        logs[index].append(web)\n",
    "# 预览\n",
    "print(\"-------------前十个网站信息------------\")\n",
    "for i, (k, v) in enumerate(webs.items()):\n",
    "    if i in range(0, 10):\n",
    "        print(k, v)\n",
    "print(\"-------------前十条浏览记录------------\")\n",
    "for i, (k, v) in enumerate(logs.items()):\n",
    "    if i in range(0, 10):\n",
    "        print(k, v)"
   ]
  },
  {
   "cell_type": "code",
   "execution_count": 8,
   "id": "26221a1f",
   "metadata": {},
   "outputs": [
    {
     "name": "stdout",
     "output_type": "stream",
     "text": [
      "网站列表包含所有访问网站，无缺失！\n"
     ]
    }
   ],
   "source": [
    "# 验证是否缺失\n",
    "web_list = set(web_id)\n",
    "watch_lst = set(watch_id)\n",
    "all_web_list = web_list | watch_lst\n",
    "if len(all_web_list) == len(web_list):\n",
    "    print('网站列表包含所有访问网站，无缺失！')\n",
    "else:\n",
    "    print('存在网站未列出，有缺失！')"
   ]
  },
  {
   "cell_type": "code",
   "execution_count": 11,
   "id": "fef85643",
   "metadata": {},
   "outputs": [
    {
     "name": "stdout",
     "output_type": "stream",
     "text": [
      "访问次数最多的网站是：\n",
      "\"Free Downloads\"\"/msdownload\"\n",
      "\n"
     ]
    },
    {
     "data": {
      "image/png": "[encoded data removed]",
      "text/plain": [
       "<Figure size 800x500 with 1 Axes>"
      ]
     },
     "metadata": {},
     "output_type": "display_data"
    }
   ],
   "source": [
    "# 统计网页访问次数\n",
    "result = pd.value_counts(watch_id)\n",
    "print(\"访问次数最多的网站是：\")\n",
    "print(webs[result.index[0]])\n",
    "# 访问量分布\n",
    "hist = [int(i) for i in watch_id]\n",
    "plt.figure(figsize=[8, 5])\n",
    "plt.hist(hist, bins=294)\n",
    "plt.xlabel(\"website_id\")\n",
    "plt.ylabel(\"views\")\n",
    "plt.show()"
   ]
  },
  {
   "cell_type": "code",
   "execution_count": 12,
   "id": "7ac1af1a",
   "metadata": {},
   "outputs": [],
   "source": [
    "# 频繁项集计算函数\n",
    "def Frequent(dic, transactions, min_sup):\n",
    "    cur_collection = {}\n",
    "    n_sup = int(len(transactions) * min_sup)\n",
    "\n",
    "    # 初始化1-频繁集\n",
    "    C = [[item] for item in dic.keys()]\n",
    "    C.sort(key=lambda x: x[0])\n",
    "\n",
    "    itemset_list = [set(itemset) for itemset in transactions.values()]\n",
    "\n",
    "    iter_num = len(dic.keys())\n",
    "    for i in range(iter_num):\n",
    "        # 过滤当前集\n",
    "        K = list()\n",
    "        for item in C:\n",
    "            item = set(item)\n",
    "            count = 0\n",
    "            for itemset in itemset_list:\n",
    "                if item & itemset == item:\n",
    "                    count += 1\n",
    "            if count >= n_sup:\n",
    "                item = list(item)\n",
    "                item.sort()\n",
    "                K.append(item)\n",
    "\n",
    "        if len(K):\n",
    "            cur_collection[\"L\" + str(i + 1)] = K\n",
    "\n",
    "        # 生成下一待过滤频繁集\n",
    "        K_l = len(K)\n",
    "        no_trim_C = set()\n",
    "        for i in range(K_l - 1):\n",
    "            for j in range(i + 1, K_l):\n",
    "                if K[i][:-1] == K[j][:-1]:\n",
    "                    temp = K[i][:-1]\n",
    "                    a, b = K[i][-1], K[j][-1]\n",
    "                    temp += [a, b] if a < b else [b, a]\n",
    "                    no_trim_C.add(tuple(temp))\n",
    "        if len(no_trim_C) == 0:\n",
    "            break\n",
    "\n",
    "        # 结束判断\n",
    "        if iter_num == 0:\n",
    "            C = [list(itemset) for itemset in no_trim_C]\n",
    "            continue\n",
    "\n",
    "        C = []\n",
    "        K = {tuple(itemset) for itemset in K}\n",
    "        for itemset in no_trim_C:\n",
    "            itemset = sorted(list(itemset))\n",
    "            for item in itemset:\n",
    "                temp_itemset = itemset.copy()\n",
    "                temp_itemset.remove(item)\n",
    "                temp_itemset = tuple(temp_itemset)\n",
    "                if temp_itemset not in K:\n",
    "                    break\n",
    "            else:\n",
    "                C.append(itemset)\n",
    "\n",
    "        if len(C) == 0:\n",
    "            break\n",
    "\n",
    "    return cur_collection"
   ]
  },
  {
   "cell_type": "code",
   "execution_count": 14,
   "id": "bcaf1c73",
   "metadata": {},
   "outputs": [
    {
     "name": "stdout",
     "output_type": "stream",
     "text": [
      "L1 :\n",
      "(1000)  (1001)  (1002)  (1003)  (1004)  (1007)  (1008)  (1009)  (1010)  (1014)  (1017)  (1018)  (1020)  (1025)  (1026)  (1030)  (1032)  (1034)  (1035)  (1036)  (1037)  (1038)  (1040)  (1041)  (1052)  (1053)  (1058)  (1295)  \n",
      "L2 :\n",
      "(1004 1034)  (1004 1008)  (1001 1018)  (1009 1037)  (1008 1018)  (1009 1034)  (1003 1018)  (1001 1009)  (1008 1017)  (1026 1041)  (1026 1038)  (1026 1034)  (1018 1035)  (1004 1017)  (1025 1026)  (1001 1035)  (1017 1018)  (1008 1035)  (1001 1004)  (1004 1018)  (1003 1035)  (1001 1003)  (1003 1004)  (1018 1034)  (1001 1034)  (1001 1008)  (1008 1009)  (1008 1034)  (1008 1026)  (1004 1009)  (1003 1008)  (1009 1017)  (1009 1018)  (1001 1017)  (1009 1035)  (1017 1034)  \n",
      "L3 :\n",
      "(1009 1018 1035)  (1001 1008 1018)  (1003 1018 1035)  (1008 1009 1035)  (1001 1003 1018)  (1008 1009 1034)  (1008 1017 1034)  (1001 1004 1018)  (1008 1009 1018)  (1008 1018 1035)  (1004 1008 1034)  (1001 1003 1004)  (1008 1018 1034)  (1001 1018 1035)  \n",
      "L4 :\n",
      "(1008 1009 1018 1035)  \n"
     ]
    }
   ],
   "source": [
    "# 计算频繁项集，频繁集内元素为网页id\n",
    "result = Frequent(webs, logs, 0.02)\n",
    "for k in result:\n",
    "    print(k, \":\")\n",
    "    for v in result[k]:\n",
    "        print(\"({})\".format(' '.join(v)), end=\"  \")\n",
    "    print()"
   ]
  },
  {
   "cell_type": "code",
   "execution_count": 15,
   "id": "e3861c42",
   "metadata": {},
   "outputs": [],
   "source": [
    "# 计算关联规则\n",
    "from apyori import apriori\n",
    "min_supp = 0.01\n",
    "min_conf = 0.005\n",
    "min_lift = 0\n",
    "transactions = [i for i in logs.values()]\n",
    "ar = list(apriori(transactions=transactions, min_support=min_supp, min_confidence=min_conf, min_lift=min_lift))\n",
    "\n",
    "supports = []\n",
    "confidences = []\n",
    "lifts = []\n",
    "bases = []\n",
    "adds = []\n",
    "\n",
    "# 转换成pdframe\n",
    "for r in ar:\n",
    "    for x in r.ordered_statistics:\n",
    "        supports.append(r.support)\n",
    "        confidences.append(x.confidence)\n",
    "        lifts.append(x.lift)\n",
    "        bases.append(list(x.items_base))\n",
    "        adds.append(list(x.items_add))\n",
    "\n",
    "result = pd.DataFrame({\n",
    "    'support': supports,\n",
    "    'confidence': confidences,\n",
    "    'lift': lifts,\n",
    "    'base': bases,\n",
    "    'add': adds\n",
    "})"
   ]
  },
  {
   "cell_type": "code",
   "execution_count": 24,
   "id": "e4c74272",
   "metadata": {},
   "outputs": [
    {
     "name": "stdout",
     "output_type": "stream",
     "text": [
      "在提升度大于1、支持度大于0.02、置信度大于0.5条件下的强相关规则有38条，分别如下：\n",
      "     support  confidence       lift                base           add\n",
      "0   0.055211    0.608491   4.471879              [1003]        [1001]\n",
      "1   0.029592    0.540480   3.972062              [1035]        [1001]\n",
      "2   0.046896    0.516846   3.171963              [1003]        [1018]\n",
      "3   0.077925    0.550778   1.662652              [1009]        [1008]\n",
      "4   0.160802    0.560588   1.692267              [1034]        [1008]\n",
      "5   0.032833    0.599665   4.238471              [1035]        [1009]\n",
      "6   0.032436    0.914655   6.464841              [1037]        [1009]\n",
      "7   0.046070    0.841429   5.163977              [1035]        [1018]\n",
      "8   0.035309    0.544041   5.526752              [1025]        [1026]\n",
      "9   0.027300    0.804505   8.172716              [1038]        [1026]\n",
      "10  0.028156    0.614000   6.237439              [1041]        [1026]\n",
      "11  0.022806    0.582358   4.279824        [1003, 1004]        [1001]\n",
      "12  0.033230    0.601883   3.693843        [1003, 1001]        [1018]\n",
      "13  0.033230    0.559156   6.162589        [1018, 1001]        [1003]\n",
      "14  0.033230    0.708605   5.207633        [1003, 1018]        [1001]\n",
      "15  0.020299    0.557515   3.421550        [1001, 1008]        [1018]\n",
      "16  0.024243    0.819215   5.027643        [1001, 1035]        [1018]\n",
      "17  0.024243    0.526211   3.867196        [1018, 1035]        [1001]\n",
      "18  0.021155    0.875949   5.375831        [1003, 1035]        [1018]\n",
      "19  0.030265    0.672554   2.030263        [1018, 1009]        [1008]\n",
      "20  0.023937    0.765396   2.310526        [1034, 1009]        [1008]\n",
      "21  0.022439    0.824719   5.829167        [1035, 1008]        [1009]\n",
      "22  0.022439    0.683426   2.063083        [1035, 1009]        [1008]\n",
      "23  0.031732    0.518223   1.806627        [1017, 1008]        [1034]\n",
      "24  0.031732    0.670110   2.022883        [1034, 1017]        [1008]\n",
      "25  0.029073    0.676387   2.041832        [1034, 1018]        [1008]\n",
      "26  0.024640    0.905618   5.557912        [1035, 1008]        [1018]\n",
      "27  0.024640    0.534837   1.614532        [1018, 1035]        [1008]\n",
      "28  0.028737    0.524846  11.663215              [1035]  [1018, 1009]\n",
      "29  0.028737    0.638587  11.663215        [1018, 1009]        [1035]\n",
      "30  0.028737    0.875233   5.371433        [1035, 1009]        [1018]\n",
      "31  0.028737    0.623756   4.408746        [1018, 1035]        [1009]\n",
      "32  0.020360    0.748315  16.629157        [1035, 1008]  [1018, 1009]\n",
      "33  0.020360    0.620112   8.487228        [1035, 1009]  [1018, 1008]\n",
      "34  0.020360    0.672727  12.286757  [1018, 1009, 1008]        [1035]\n",
      "35  0.020360    0.907357   5.568584  [1035, 1009, 1008]        [1018]\n",
      "36  0.020360    0.826303   5.840361  [1018, 1035, 1008]        [1009]\n",
      "37  0.020360    0.708511   2.138805  [1018, 1035, 1009]        [1008]\n"
     ]
    }
   ],
   "source": [
    "# 计算强关联规则，及对应的支持度、自信度、上升度\n",
    "res = result[(result.lift > 1) & (result.support > 0.02) & (result.confidence > 0.5)]\n",
    "res = res.reset_index(drop=True)\n",
    "\n",
    "pd.set_option('display.max_columns', None)\n",
    "print(\"在提升度大于1、支持度大于0.02、置信度大于0.5条件下的强相关规则有{}条，分别如下：\".format(res.shape[0]))\n",
    "print(res)"
   ]
  },
  {
   "cell_type": "markdown",
   "id": "152c7f28",
   "metadata": {},
   "source": [
    "### 结果分析与应用\n",
    "\n",
    "经过对网页浏览记录的关联规则抽取，能够发现强度极其相关的网页，即用户在访问某一网页时大概率会访问已知的另一网页。\n",
    "对于上述已经筛选过的强关联规则，对应基项元素的各网站在设计时应考虑增设对应添加项元素的网站导航，以提升用户体验。"
   ]
  }
 ],
 "metadata": {
  "kernelspec": {
   "display_name": "Python 3 (ipykernel)",
   "language": "python",
   "name": "python3"
  },
  "language_info": {
   "codemirror_mode": {
    "name": "ipython",
    "version": 3
   },
   "file_extension": ".py",
   "mimetype": "text/x-python",
   "name": "python",
   "nbconvert_exporter": "python",
   "pygments_lexer": "ipython3",
   "version": "3.9.13"
  }
 },
 "nbformat": 4,
 "nbformat_minor": 5
}
